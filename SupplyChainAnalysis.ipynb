{
 "cells": [
  {
   "cell_type": "markdown",
   "id": "34571bb3-c2b9-4d86-91c7-b9c2e01a8de4",
   "metadata": {},
   "source": [
    "# Imports and Reading data"
   ]
  },
  {
   "cell_type": "code",
   "execution_count": 2,
   "id": "389f14d5-ae74-4e82-901b-f1fbf14099c3",
   "metadata": {},
   "outputs": [],
   "source": [
    "#pip install pandasql\n",
    "# import the libraries\n",
    "import pandas as pd\n",
    "import numpy as np\n",
    "import matplotlib.pylab as plt\n",
    "import seaborn as sns\n",
    "plt.style.use( 'ggplot')\n",
    "import pandasql as psql\n",
    "#import datasets\n",
    "df_orders = pd.read_csv(\"D:/School/MIS581/Datasets/order_shipments.csv\",encoding=\"ISO-8859-1\")\n",
    "df_inventory = pd.read_csv(\"D:/School/MIS581/Datasets/inventory.csv\")\n",
    "df_fulfillment = pd.read_csv(\"D:/School/MIS581/Datasets/fulfillment.csv\")"
   ]
  },
  {
   "cell_type": "markdown",
   "id": "711c1130-22ad-4f26-ad7a-0b8676bbd307",
   "metadata": {},
   "source": [
    "# Understand Dataset"
   ]
  },
  {
   "cell_type": "markdown",
   "id": "254f59c2-4316-4fe4-832a-b0342f7c41ea",
   "metadata": {},
   "source": [
    "## Shape"
   ]
  },
  {
   "cell_type": "code",
   "execution_count": 5,
   "id": "dec4aa1f-790f-475b-b11d-490973d25047",
   "metadata": {},
   "outputs": [
    {
     "name": "stdout",
     "output_type": "stream",
     "text": [
      "data frame shape for order shipments: (30871, 24)\n",
      "data frame shape for inventory: (4200, 4)\n",
      "data frame shape for fulfillment: (118, 2)\n"
     ]
    }
   ],
   "source": [
    "#dataframe shape\n",
    "ord = df_orders.shape\n",
    "inv = df_inventory.shape\n",
    "ful = df_fulfillment.shape\n",
    "\n",
    "print(\"data frame shape for order shipments:\",ord)\n",
    "print(\"data frame shape for inventory:\",inv)\n",
    "print(\"data frame shape for fulfillment:\",ful)\n"
   ]
  },
  {
   "cell_type": "markdown",
   "id": "b6057068-67a3-4c90-b4a5-a96807f6ba34",
   "metadata": {},
   "source": [
    "## Column Descriptions"
   ]
  },
  {
   "cell_type": "code",
   "execution_count": 9,
   "id": "b9517cc4-34a8-4226-a092-39a63a9b662e",
   "metadata": {},
   "outputs": [
    {
     "data": {
      "text/plain": [
       "Index([' OrderID ', ' OrderItemID ', 'YearMonth ', ' OrderYear ',\n",
       "       ' OrderMonth ', ' OrderDay ', 'OrderTime', 'OrderQuantity',\n",
       "       'ProductDepartment', 'ProductCategory', 'ProductName', ' CustomerID ',\n",
       "       'CustomerMarket', 'CustomerRegion', 'CustomerCountry',\n",
       "       'WarehouseCountry', 'ShipmentYear', 'ShipmentMonth', 'ShipmentDay',\n",
       "       'ShipmentMode', ' ShipmentDaysScheduled ', ' GrossSales ', ' Discount',\n",
       "       ' Profit '],\n",
       "      dtype='object')"
      ]
     },
     "execution_count": 9,
     "metadata": {},
     "output_type": "execute_result"
    }
   ],
   "source": [
    "#ordershipments dataset\n",
    "df_orders.columns"
   ]
  },
  {
   "cell_type": "code",
   "execution_count": 8,
   "id": "fde0d298-56df-463d-b0ec-8e8d41b193b9",
   "metadata": {},
   "outputs": [
    {
     "data": {
      "text/plain": [
       "Index(['ProductName', ' YearMonth ', ' WarehouseInventory ',\n",
       "       'InventoryCostPerUnit'],\n",
       "      dtype='object')"
      ]
     },
     "execution_count": 8,
     "metadata": {},
     "output_type": "execute_result"
    }
   ],
   "source": [
    "#inventory dataset\n",
    "df_inventory.columns"
   ]
  },
  {
   "cell_type": "code",
   "execution_count": 9,
   "id": "08250fb9-4ee8-4132-a3b8-a3dda411d291",
   "metadata": {},
   "outputs": [
    {
     "data": {
      "text/plain": [
       "Index(['ProductName', 'dock_stock_days'], dtype='object')"
      ]
     },
     "execution_count": 9,
     "metadata": {},
     "output_type": "execute_result"
    }
   ],
   "source": [
    "#warehouse fulfillment dataset\n",
    "df_fulfillment.columns"
   ]
  },
  {
   "cell_type": "code",
   "execution_count": 10,
   "id": "4fa6bb32-a452-4430-a3bb-5d8b6e5549ec",
   "metadata": {},
   "outputs": [],
   "source": [
    "## Dataset Data "
   ]
  },
  {
   "cell_type": "code",
   "execution_count": 11,
   "id": "0b61aaf4-2af1-485b-badb-642b655dd2ea",
   "metadata": {},
   "outputs": [
    {
     "data": {
      "text/html": [
       "<div>\n",
       "<style scoped>\n",
       "    .dataframe tbody tr th:only-of-type {\n",
       "        vertical-align: middle;\n",
       "    }\n",
       "\n",
       "    .dataframe tbody tr th {\n",
       "        vertical-align: top;\n",
       "    }\n",
       "\n",
       "    .dataframe thead th {\n",
       "        text-align: right;\n",
       "    }\n",
       "</style>\n",
       "<table border=\"1\" class=\"dataframe\">\n",
       "  <thead>\n",
       "    <tr style=\"text-align: right;\">\n",
       "      <th></th>\n",
       "      <th>OrderID</th>\n",
       "      <th>OrderItemID</th>\n",
       "      <th>OrderYearMonth</th>\n",
       "      <th>OrderYear</th>\n",
       "      <th>OrderMonth</th>\n",
       "      <th>OrderDay</th>\n",
       "      <th>OrderTime</th>\n",
       "      <th>OrderQuantity</th>\n",
       "      <th>ProductDepartment</th>\n",
       "      <th>ProductCategory</th>\n",
       "      <th>...</th>\n",
       "      <th>CustomerCountry</th>\n",
       "      <th>WarehouseCountry</th>\n",
       "      <th>ShipmentYear</th>\n",
       "      <th>ShipmentMonth</th>\n",
       "      <th>ShipmentDay</th>\n",
       "      <th>ShipmentMode</th>\n",
       "      <th>ShipmentDaysScheduled</th>\n",
       "      <th>GrossSales</th>\n",
       "      <th>Discount</th>\n",
       "      <th>Profit</th>\n",
       "    </tr>\n",
       "  </thead>\n",
       "  <tbody>\n",
       "    <tr>\n",
       "      <th>0</th>\n",
       "      <td>3535</td>\n",
       "      <td>8793</td>\n",
       "      <td>201502</td>\n",
       "      <td>2015</td>\n",
       "      <td>2</td>\n",
       "      <td>21</td>\n",
       "      <td>14:07</td>\n",
       "      <td>1</td>\n",
       "      <td>Fan Shop</td>\n",
       "      <td>Fishing</td>\n",
       "      <td>...</td>\n",
       "      <td>Mexico</td>\n",
       "      <td>Puerto Rico</td>\n",
       "      <td>2015</td>\n",
       "      <td>2</td>\n",
       "      <td>27</td>\n",
       "      <td>Standard Class</td>\n",
       "      <td>4</td>\n",
       "      <td>400</td>\n",
       "      <td>0.25</td>\n",
       "      <td>200</td>\n",
       "    </tr>\n",
       "    <tr>\n",
       "      <th>1</th>\n",
       "      <td>4133</td>\n",
       "      <td>10320</td>\n",
       "      <td>201503</td>\n",
       "      <td>2015</td>\n",
       "      <td>3</td>\n",
       "      <td>2</td>\n",
       "      <td>7:37</td>\n",
       "      <td>1</td>\n",
       "      <td>Fan Shop</td>\n",
       "      <td>Fishing</td>\n",
       "      <td>...</td>\n",
       "      <td>Brazil</td>\n",
       "      <td>Puerto Rico</td>\n",
       "      <td>2015</td>\n",
       "      <td>3</td>\n",
       "      <td>6</td>\n",
       "      <td>Standard Class</td>\n",
       "      <td>4</td>\n",
       "      <td>400</td>\n",
       "      <td>0.09</td>\n",
       "      <td>200</td>\n",
       "    </tr>\n",
       "    <tr>\n",
       "      <th>2</th>\n",
       "      <td>7396</td>\n",
       "      <td>18517</td>\n",
       "      <td>201504</td>\n",
       "      <td>2015</td>\n",
       "      <td>4</td>\n",
       "      <td>18</td>\n",
       "      <td>22:47</td>\n",
       "      <td>1</td>\n",
       "      <td>Fan Shop</td>\n",
       "      <td>Fishing</td>\n",
       "      <td>...</td>\n",
       "      <td>Mexico</td>\n",
       "      <td>Puerto Rico</td>\n",
       "      <td>2015</td>\n",
       "      <td>4</td>\n",
       "      <td>20</td>\n",
       "      <td>Standard Class</td>\n",
       "      <td>4</td>\n",
       "      <td>400</td>\n",
       "      <td>0.06</td>\n",
       "      <td>200</td>\n",
       "    </tr>\n",
       "    <tr>\n",
       "      <th>3</th>\n",
       "      <td>11026</td>\n",
       "      <td>27608</td>\n",
       "      <td>201506</td>\n",
       "      <td>2015</td>\n",
       "      <td>6</td>\n",
       "      <td>10</td>\n",
       "      <td>22:32</td>\n",
       "      <td>1</td>\n",
       "      <td>Fan Shop</td>\n",
       "      <td>Fishing</td>\n",
       "      <td>...</td>\n",
       "      <td>Denmark</td>\n",
       "      <td>Puerto Rico</td>\n",
       "      <td>2015</td>\n",
       "      <td>6</td>\n",
       "      <td>12</td>\n",
       "      <td>Standard Class</td>\n",
       "      <td>4</td>\n",
       "      <td>400</td>\n",
       "      <td>0.15</td>\n",
       "      <td>200</td>\n",
       "    </tr>\n",
       "    <tr>\n",
       "      <th>4</th>\n",
       "      <td>11026</td>\n",
       "      <td>27609</td>\n",
       "      <td>201506</td>\n",
       "      <td>2015</td>\n",
       "      <td>6</td>\n",
       "      <td>10</td>\n",
       "      <td>22:32</td>\n",
       "      <td>1</td>\n",
       "      <td>Fan Shop</td>\n",
       "      <td>Fishing</td>\n",
       "      <td>...</td>\n",
       "      <td>Denmark</td>\n",
       "      <td>Puerto Rico</td>\n",
       "      <td>2015</td>\n",
       "      <td>6</td>\n",
       "      <td>12</td>\n",
       "      <td>Standard Class</td>\n",
       "      <td>4</td>\n",
       "      <td>400</td>\n",
       "      <td>0.13</td>\n",
       "      <td>200</td>\n",
       "    </tr>\n",
       "    <tr>\n",
       "      <th>...</th>\n",
       "      <td>...</td>\n",
       "      <td>...</td>\n",
       "      <td>...</td>\n",
       "      <td>...</td>\n",
       "      <td>...</td>\n",
       "      <td>...</td>\n",
       "      <td>...</td>\n",
       "      <td>...</td>\n",
       "      <td>...</td>\n",
       "      <td>...</td>\n",
       "      <td>...</td>\n",
       "      <td>...</td>\n",
       "      <td>...</td>\n",
       "      <td>...</td>\n",
       "      <td>...</td>\n",
       "      <td>...</td>\n",
       "      <td>...</td>\n",
       "      <td>...</td>\n",
       "      <td>...</td>\n",
       "      <td>...</td>\n",
       "      <td>...</td>\n",
       "    </tr>\n",
       "    <tr>\n",
       "      <th>30866</th>\n",
       "      <td>73246</td>\n",
       "      <td>176561</td>\n",
       "      <td>201712</td>\n",
       "      <td>2017</td>\n",
       "      <td>12</td>\n",
       "      <td>5</td>\n",
       "      <td>4:59</td>\n",
       "      <td>1</td>\n",
       "      <td>Fan Shop</td>\n",
       "      <td>Toys</td>\n",
       "      <td>...</td>\n",
       "      <td>Australia</td>\n",
       "      <td>Puerto Rico</td>\n",
       "      <td>2017</td>\n",
       "      <td>12</td>\n",
       "      <td>11</td>\n",
       "      <td>Standard Class</td>\n",
       "      <td>4</td>\n",
       "      <td>12</td>\n",
       "      <td>0.06</td>\n",
       "      <td>6</td>\n",
       "    </tr>\n",
       "    <tr>\n",
       "      <th>30867</th>\n",
       "      <td>7908</td>\n",
       "      <td>19762</td>\n",
       "      <td>201504</td>\n",
       "      <td>2015</td>\n",
       "      <td>4</td>\n",
       "      <td>26</td>\n",
       "      <td>10:10</td>\n",
       "      <td>1</td>\n",
       "      <td>Fan Shop</td>\n",
       "      <td>Hunting &amp; Shooting</td>\n",
       "      <td>...</td>\n",
       "      <td>Paraguay</td>\n",
       "      <td>Puerto Rico</td>\n",
       "      <td>2015</td>\n",
       "      <td>4</td>\n",
       "      <td>30</td>\n",
       "      <td>Standard Class</td>\n",
       "      <td>4</td>\n",
       "      <td>30</td>\n",
       "      <td>0.12</td>\n",
       "      <td>68</td>\n",
       "    </tr>\n",
       "    <tr>\n",
       "      <th>30868</th>\n",
       "      <td>29326</td>\n",
       "      <td>73368</td>\n",
       "      <td>201603</td>\n",
       "      <td>2016</td>\n",
       "      <td>3</td>\n",
       "      <td>4</td>\n",
       "      <td>1:51</td>\n",
       "      <td>1</td>\n",
       "      <td>Fan Shop</td>\n",
       "      <td>Hunting &amp; Shooting</td>\n",
       "      <td>...</td>\n",
       "      <td>India</td>\n",
       "      <td>Puerto Rico</td>\n",
       "      <td>2016</td>\n",
       "      <td>3</td>\n",
       "      <td>6</td>\n",
       "      <td>Second Class</td>\n",
       "      <td>2</td>\n",
       "      <td>30</td>\n",
       "      <td>0.09</td>\n",
       "      <td>68</td>\n",
       "    </tr>\n",
       "    <tr>\n",
       "      <th>30869</th>\n",
       "      <td>63308</td>\n",
       "      <td>158284</td>\n",
       "      <td>201707</td>\n",
       "      <td>2017</td>\n",
       "      <td>7</td>\n",
       "      <td>13</td>\n",
       "      <td>3:15</td>\n",
       "      <td>1</td>\n",
       "      <td>Fan Shop</td>\n",
       "      <td>Hunting &amp; Shooting</td>\n",
       "      <td>...</td>\n",
       "      <td>Germany</td>\n",
       "      <td>Puerto Rico</td>\n",
       "      <td>2017</td>\n",
       "      <td>7</td>\n",
       "      <td>17</td>\n",
       "      <td>Second Class</td>\n",
       "      <td>2</td>\n",
       "      <td>150</td>\n",
       "      <td>0.02</td>\n",
       "      <td>60</td>\n",
       "    </tr>\n",
       "    <tr>\n",
       "      <th>30870</th>\n",
       "      <td>67951</td>\n",
       "      <td>169874</td>\n",
       "      <td>201709</td>\n",
       "      <td>2017</td>\n",
       "      <td>9</td>\n",
       "      <td>18</td>\n",
       "      <td>21:54</td>\n",
       "      <td>1</td>\n",
       "      <td>Fan Shop</td>\n",
       "      <td>Water Sports</td>\n",
       "      <td>...</td>\n",
       "      <td>Italy</td>\n",
       "      <td>Puerto Rico</td>\n",
       "      <td>2017</td>\n",
       "      <td>9</td>\n",
       "      <td>20</td>\n",
       "      <td>First Class</td>\n",
       "      <td>1</td>\n",
       "      <td>350</td>\n",
       "      <td>-</td>\n",
       "      <td>172</td>\n",
       "    </tr>\n",
       "  </tbody>\n",
       "</table>\n",
       "<p>30871 rows × 24 columns</p>\n",
       "</div>"
      ],
      "text/plain": [
       "        OrderID    OrderItemID    OrderYearMonth    OrderYear    OrderMonth   \\\n",
       "0           3535           8793            201502         2015             2   \n",
       "1           4133          10320            201503         2015             3   \n",
       "2           7396          18517            201504         2015             4   \n",
       "3          11026          27608            201506         2015             6   \n",
       "4          11026          27609            201506         2015             6   \n",
       "...          ...            ...               ...          ...           ...   \n",
       "30866      73246         176561            201712         2017            12   \n",
       "30867       7908          19762            201504         2015             4   \n",
       "30868      29326          73368            201603         2016             3   \n",
       "30869      63308         158284            201707         2017             7   \n",
       "30870      67951         169874            201709         2017             9   \n",
       "\n",
       "        OrderDay  OrderTime  OrderQuantity ProductDepartment  \\\n",
       "0              21     14:07              1          Fan Shop   \n",
       "1               2      7:37              1          Fan Shop   \n",
       "2              18     22:47              1          Fan Shop   \n",
       "3              10     22:32              1          Fan Shop   \n",
       "4              10     22:32              1          Fan Shop   \n",
       "...           ...       ...            ...               ...   \n",
       "30866           5      4:59              1          Fan Shop   \n",
       "30867          26     10:10              1          Fan Shop   \n",
       "30868           4      1:51              1          Fan Shop   \n",
       "30869          13      3:15              1          Fan Shop   \n",
       "30870          18     21:54              1          Fan Shop   \n",
       "\n",
       "          ProductCategory  ... CustomerCountry  WarehouseCountry ShipmentYear  \\\n",
       "0                 Fishing  ...          Mexico       Puerto Rico         2015   \n",
       "1                 Fishing  ...          Brazil       Puerto Rico         2015   \n",
       "2                 Fishing  ...          Mexico       Puerto Rico         2015   \n",
       "3                 Fishing  ...         Denmark       Puerto Rico         2015   \n",
       "4                 Fishing  ...         Denmark       Puerto Rico         2015   \n",
       "...                   ...  ...             ...               ...          ...   \n",
       "30866                Toys  ...       Australia       Puerto Rico         2017   \n",
       "30867  Hunting & Shooting  ...        Paraguay       Puerto Rico         2015   \n",
       "30868  Hunting & Shooting  ...           India       Puerto Rico         2016   \n",
       "30869  Hunting & Shooting  ...         Germany       Puerto Rico         2017   \n",
       "30870        Water Sports  ...           Italy       Puerto Rico         2017   \n",
       "\n",
       "      ShipmentMonth ShipmentDay    ShipmentMode   ShipmentDaysScheduled   \\\n",
       "0                 2          27  Standard Class                        4   \n",
       "1                 3           6  Standard Class                        4   \n",
       "2                 4          20  Standard Class                        4   \n",
       "3                 6          12  Standard Class                        4   \n",
       "4                 6          12  Standard Class                        4   \n",
       "...             ...         ...             ...                      ...   \n",
       "30866            12          11  Standard Class                        4   \n",
       "30867             4          30  Standard Class                        4   \n",
       "30868             3           6    Second Class                        2   \n",
       "30869             7          17    Second Class                        2   \n",
       "30870             9          20     First Class                        1   \n",
       "\n",
       "        GrossSales    Discount  Profit   \n",
       "0               400       0.25      200  \n",
       "1               400       0.09      200  \n",
       "2               400       0.06      200  \n",
       "3               400       0.15      200  \n",
       "4               400       0.13      200  \n",
       "...             ...        ...      ...  \n",
       "30866            12       0.06        6  \n",
       "30867            30       0.12       68  \n",
       "30868            30       0.09       68  \n",
       "30869           150       0.02       60  \n",
       "30870           350        -        172  \n",
       "\n",
       "[30871 rows x 24 columns]"
      ]
     },
     "execution_count": 11,
     "metadata": {},
     "output_type": "execute_result"
    }
   ],
   "source": [
    "#first and last five rows of ordershipments dataset\n",
    "# Note: df_orders.head and df_orders.tail output had columns in multiple rows\n",
    "df_orders[[' OrderID ', ' OrderItemID ', ' OrderYearMonth ', ' OrderYear ',\n",
    "       ' OrderMonth ', ' OrderDay ', 'OrderTime', 'OrderQuantity',\n",
    "       'ProductDepartment', 'ProductCategory', 'ProductName', ' CustomerID ',\n",
    "       'CustomerMarket', 'CustomerRegion', 'CustomerCountry',\n",
    "       'WarehouseCountry', 'ShipmentYear', 'ShipmentMonth', 'ShipmentDay',\n",
    "       'ShipmentMode', ' ShipmentDaysScheduled ', ' GrossSales ', ' Discount',\n",
    "       ' Profit ']]"
   ]
  },
  {
   "cell_type": "code",
   "execution_count": 12,
   "id": "e9e95a12-71e1-4393-b415-50f62894830b",
   "metadata": {},
   "outputs": [
    {
     "data": {
      "text/html": [
       "<div>\n",
       "<style scoped>\n",
       "    .dataframe tbody tr th:only-of-type {\n",
       "        vertical-align: middle;\n",
       "    }\n",
       "\n",
       "    .dataframe tbody tr th {\n",
       "        vertical-align: top;\n",
       "    }\n",
       "\n",
       "    .dataframe thead th {\n",
       "        text-align: right;\n",
       "    }\n",
       "</style>\n",
       "<table border=\"1\" class=\"dataframe\">\n",
       "  <thead>\n",
       "    <tr style=\"text-align: right;\">\n",
       "      <th></th>\n",
       "      <th>ProductName</th>\n",
       "      <th>YearMonth</th>\n",
       "      <th>WarehouseInventory</th>\n",
       "      <th>InventoryCostPerUnit</th>\n",
       "    </tr>\n",
       "  </thead>\n",
       "  <tbody>\n",
       "    <tr>\n",
       "      <th>0</th>\n",
       "      <td>Perfect Fitness Perfect Rip Deck</td>\n",
       "      <td>201712</td>\n",
       "      <td>0</td>\n",
       "      <td>0.69517</td>\n",
       "    </tr>\n",
       "    <tr>\n",
       "      <th>1</th>\n",
       "      <td>Nike Men's Dri-FIT Victory Golf Polo</td>\n",
       "      <td>201712</td>\n",
       "      <td>2</td>\n",
       "      <td>1.29291</td>\n",
       "    </tr>\n",
       "    <tr>\n",
       "      <th>2</th>\n",
       "      <td>O'Brien Men's Neoprene Life Vest</td>\n",
       "      <td>201712</td>\n",
       "      <td>0</td>\n",
       "      <td>0.56531</td>\n",
       "    </tr>\n",
       "    <tr>\n",
       "      <th>3</th>\n",
       "      <td>Nike Men's Free 5.0+ Running Shoe</td>\n",
       "      <td>201712</td>\n",
       "      <td>1</td>\n",
       "      <td>1.26321</td>\n",
       "    </tr>\n",
       "    <tr>\n",
       "      <th>4</th>\n",
       "      <td>Under Armour Girls' Toddler Spine Surge Runni</td>\n",
       "      <td>201712</td>\n",
       "      <td>0</td>\n",
       "      <td>1.47648</td>\n",
       "    </tr>\n",
       "    <tr>\n",
       "      <th>...</th>\n",
       "      <td>...</td>\n",
       "      <td>...</td>\n",
       "      <td>...</td>\n",
       "      <td>...</td>\n",
       "    </tr>\n",
       "    <tr>\n",
       "      <th>4195</th>\n",
       "      <td>TaylorMade 2017 Purelite Stand Bag</td>\n",
       "      <td>201501</td>\n",
       "      <td>0</td>\n",
       "      <td>1.44662</td>\n",
       "    </tr>\n",
       "    <tr>\n",
       "      <th>4196</th>\n",
       "      <td>Ogio Race Golf Shoes</td>\n",
       "      <td>201501</td>\n",
       "      <td>0</td>\n",
       "      <td>0.10310</td>\n",
       "    </tr>\n",
       "    <tr>\n",
       "      <th>4197</th>\n",
       "      <td>GolfBuddy VT3 GPS Watch</td>\n",
       "      <td>201501</td>\n",
       "      <td>0</td>\n",
       "      <td>1.77747</td>\n",
       "    </tr>\n",
       "    <tr>\n",
       "      <th>4198</th>\n",
       "      <td>Titleist Small Wheeled Travel Cover</td>\n",
       "      <td>201501</td>\n",
       "      <td>0</td>\n",
       "      <td>0.15244</td>\n",
       "    </tr>\n",
       "    <tr>\n",
       "      <th>4199</th>\n",
       "      <td>Polar Loop Activity Tracker</td>\n",
       "      <td>201501</td>\n",
       "      <td>1</td>\n",
       "      <td>0.88259</td>\n",
       "    </tr>\n",
       "  </tbody>\n",
       "</table>\n",
       "<p>4200 rows × 4 columns</p>\n",
       "</div>"
      ],
      "text/plain": [
       "                                        ProductName   YearMonth   \\\n",
       "0                  Perfect Fitness Perfect Rip Deck       201712   \n",
       "1              Nike Men's Dri-FIT Victory Golf Polo       201712   \n",
       "2                  O'Brien Men's Neoprene Life Vest       201712   \n",
       "3                 Nike Men's Free 5.0+ Running Shoe       201712   \n",
       "4     Under Armour Girls' Toddler Spine Surge Runni       201712   \n",
       "...                                             ...          ...   \n",
       "4195             TaylorMade 2017 Purelite Stand Bag       201501   \n",
       "4196                           Ogio Race Golf Shoes       201501   \n",
       "4197                        GolfBuddy VT3 GPS Watch       201501   \n",
       "4198            Titleist Small Wheeled Travel Cover       201501   \n",
       "4199                    Polar Loop Activity Tracker       201501   \n",
       "\n",
       "       WarehouseInventory   InventoryCostPerUnit  \n",
       "0                        0               0.69517  \n",
       "1                        2               1.29291  \n",
       "2                        0               0.56531  \n",
       "3                        1               1.26321  \n",
       "4                        0               1.47648  \n",
       "...                    ...                   ...  \n",
       "4195                     0               1.44662  \n",
       "4196                     0               0.10310  \n",
       "4197                     0               1.77747  \n",
       "4198                     0               0.15244  \n",
       "4199                     1               0.88259  \n",
       "\n",
       "[4200 rows x 4 columns]"
      ]
     },
     "execution_count": 12,
     "metadata": {},
     "output_type": "execute_result"
    }
   ],
   "source": [
    "#first and last five rows of inventory dataset\n",
    "df_inventory[['ProductName', ' YearMonth ', ' WarehouseInventory ',\n",
    "       'InventoryCostPerUnit']]\n",
    "\n"
   ]
  },
  {
   "cell_type": "code",
   "execution_count": 13,
   "id": "cc5006b3-038c-4221-bceb-c0cf7d82c913",
   "metadata": {},
   "outputs": [
    {
     "data": {
      "text/html": [
       "<div>\n",
       "<style scoped>\n",
       "    .dataframe tbody tr th:only-of-type {\n",
       "        vertical-align: middle;\n",
       "    }\n",
       "\n",
       "    .dataframe tbody tr th {\n",
       "        vertical-align: top;\n",
       "    }\n",
       "\n",
       "    .dataframe thead th {\n",
       "        text-align: right;\n",
       "    }\n",
       "</style>\n",
       "<table border=\"1\" class=\"dataframe\">\n",
       "  <thead>\n",
       "    <tr style=\"text-align: right;\">\n",
       "      <th></th>\n",
       "      <th>ProductName</th>\n",
       "      <th>dock_stock_days</th>\n",
       "    </tr>\n",
       "  </thead>\n",
       "  <tbody>\n",
       "    <tr>\n",
       "      <th>0</th>\n",
       "      <td>Perfect Fitness Perfect Rip Deck</td>\n",
       "      <td>8.3</td>\n",
       "    </tr>\n",
       "    <tr>\n",
       "      <th>1</th>\n",
       "      <td>Nike Men's Dri-FIT Victory Golf Polo</td>\n",
       "      <td>6.6</td>\n",
       "    </tr>\n",
       "    <tr>\n",
       "      <th>2</th>\n",
       "      <td>O'Brien Men's Neoprene Life Vest</td>\n",
       "      <td>5.5</td>\n",
       "    </tr>\n",
       "    <tr>\n",
       "      <th>3</th>\n",
       "      <td>Nike Men's Free 5.0+ Running Shoe</td>\n",
       "      <td>9.4</td>\n",
       "    </tr>\n",
       "    <tr>\n",
       "      <th>4</th>\n",
       "      <td>Under Armour Girls' Toddler Spine Surge Runni</td>\n",
       "      <td>6.3</td>\n",
       "    </tr>\n",
       "    <tr>\n",
       "      <th>...</th>\n",
       "      <td>...</td>\n",
       "      <td>...</td>\n",
       "    </tr>\n",
       "    <tr>\n",
       "      <th>113</th>\n",
       "      <td>Stiga Master Series ST3100 Competition Indoor</td>\n",
       "      <td>4.7</td>\n",
       "    </tr>\n",
       "    <tr>\n",
       "      <th>114</th>\n",
       "      <td>SOLE E35 Elliptical</td>\n",
       "      <td>1.9</td>\n",
       "    </tr>\n",
       "    <tr>\n",
       "      <th>115</th>\n",
       "      <td>Bushnell Pro X7 Jolt Slope Rangefinder</td>\n",
       "      <td>2.0</td>\n",
       "    </tr>\n",
       "    <tr>\n",
       "      <th>116</th>\n",
       "      <td>SOLE E25 Elliptical</td>\n",
       "      <td>2.1</td>\n",
       "    </tr>\n",
       "    <tr>\n",
       "      <th>117</th>\n",
       "      <td>Bowflex SelectTech 1090 Dumbbells</td>\n",
       "      <td>7.7</td>\n",
       "    </tr>\n",
       "  </tbody>\n",
       "</table>\n",
       "<p>118 rows × 2 columns</p>\n",
       "</div>"
      ],
      "text/plain": [
       "                                       ProductName  dock_stock_days\n",
       "0                 Perfect Fitness Perfect Rip Deck              8.3\n",
       "1             Nike Men's Dri-FIT Victory Golf Polo              6.6\n",
       "2                 O'Brien Men's Neoprene Life Vest              5.5\n",
       "3                Nike Men's Free 5.0+ Running Shoe              9.4\n",
       "4    Under Armour Girls' Toddler Spine Surge Runni              6.3\n",
       "..                                             ...              ...\n",
       "113  Stiga Master Series ST3100 Competition Indoor              4.7\n",
       "114                            SOLE E35 Elliptical              1.9\n",
       "115         Bushnell Pro X7 Jolt Slope Rangefinder              2.0\n",
       "116                            SOLE E25 Elliptical              2.1\n",
       "117              Bowflex SelectTech 1090 Dumbbells              7.7\n",
       "\n",
       "[118 rows x 2 columns]"
      ]
     },
     "execution_count": 13,
     "metadata": {},
     "output_type": "execute_result"
    }
   ],
   "source": [
    "#first and last five rows of warehouse fulfillment dataset\n",
    "df_fulfillment[['ProductName', 'dock_stock_days']]\n"
   ]
  },
  {
   "cell_type": "markdown",
   "id": "364f1ebe-568d-4bac-bab3-8e4a7a1b970d",
   "metadata": {},
   "source": [
    "## Data Types"
   ]
  },
  {
   "cell_type": "code",
   "execution_count": 15,
   "id": "7d854e96-6974-4eee-8049-5bc56a9b9d28",
   "metadata": {},
   "outputs": [],
   "source": [
    "#merge the order dates \n",
    "df_orders['OrderDateTime']= (df_orders[' OrderYear '].astype(str) +'-'+\n",
    "                                       df_orders[' OrderMonth '].astype(str) +'-'+\n",
    "                                       df_orders[' OrderDay '].astype(str) +' '+\n",
    "                                       df_orders[ 'OrderTime'])\n",
    "\n",
    "#convert to datetime format\n",
    "df_orders['OrderDateTime']= pd.to_datetime(df_orders['OrderDateTime'], format=\"%Y-%m-%d %H:%M\")\n"
   ]
  },
  {
   "cell_type": "code",
   "execution_count": 16,
   "id": "1a7da3ac-4aaf-4c21-8eed-b29a95b764a7",
   "metadata": {},
   "outputs": [
    {
     "data": {
      "text/plain": [
       " OrderID                            int64\n",
       " OrderItemID                        int64\n",
       " OrderYearMonth                     int64\n",
       " OrderYear                          int64\n",
       " OrderMonth                         int64\n",
       " OrderDay                           int64\n",
       "OrderTime                          object\n",
       "OrderQuantity                       int64\n",
       "ProductDepartment                  object\n",
       "ProductCategory                    object\n",
       "ProductName                        object\n",
       " CustomerID                         int64\n",
       "CustomerMarket                     object\n",
       "CustomerRegion                     object\n",
       "CustomerCountry                    object\n",
       "WarehouseCountry                   object\n",
       "ShipmentYear                        int64\n",
       "ShipmentMonth                       int64\n",
       "ShipmentDay                         int64\n",
       "ShipmentMode                       object\n",
       " ShipmentDaysScheduled              int64\n",
       " GrossSales                         int64\n",
       " Discount                          object\n",
       " Profit                             int64\n",
       "OrderDateTime              datetime64[ns]\n",
       "ShipDate                   datetime64[ns]\n",
       "dtype: object"
      ]
     },
     "execution_count": 16,
     "metadata": {},
     "output_type": "execute_result"
    }
   ],
   "source": [
    "#create new column for shipment date\n",
    "df_orders['ShipDate']= (df_orders['ShipmentYear'].astype(str) +'-'+\n",
    "                                       df_orders['ShipmentMonth'].astype(str) +'-'+\n",
    "                                       df_orders['ShipmentDay'].astype(str) )\n",
    "\n",
    "df_orders['ShipDate']= pd.to_datetime(df_orders['ShipDate'], format=\"%Y-%m-%d\")\n",
    "\n",
    "#order shipment dataset\n",
    "df_orders.dtypes"
   ]
  },
  {
   "cell_type": "code",
   "execution_count": 17,
   "id": "8bb6fabb-3d2c-49ae-9246-3d0b948c0cf2",
   "metadata": {},
   "outputs": [
    {
     "data": {
      "text/plain": [
       "ProductName              object\n",
       " YearMonth                int64\n",
       " WarehouseInventory       int64\n",
       "InventoryCostPerUnit    float64\n",
       "dtype: object"
      ]
     },
     "execution_count": 17,
     "metadata": {},
     "output_type": "execute_result"
    }
   ],
   "source": [
    "#inventory dataset\n",
    "df_inventory.dtypes"
   ]
  },
  {
   "cell_type": "code",
   "execution_count": 18,
   "id": "e03540c9-5532-41d8-896e-8ed469d23661",
   "metadata": {},
   "outputs": [
    {
     "data": {
      "text/plain": [
       "ProductName         object\n",
       "dock_stock_days    float64\n",
       "dtype: object"
      ]
     },
     "execution_count": 18,
     "metadata": {},
     "output_type": "execute_result"
    }
   ],
   "source": [
    "#warehouse fulfillment dataset\n",
    "df_fulfillment.dtypes"
   ]
  },
  {
   "cell_type": "markdown",
   "id": "021b45ba-bd5a-4595-9611-952284c80fd7",
   "metadata": {},
   "source": [
    "# Data Cleaning"
   ]
  },
  {
   "cell_type": "code",
   "execution_count": 20,
   "id": "2c370980-1cd6-4683-bf4b-3b872cd1783c",
   "metadata": {},
   "outputs": [],
   "source": [
    "## Handling Missing Value"
   ]
  },
  {
   "cell_type": "code",
   "execution_count": 21,
   "id": "36fbd8cf-beb8-49f0-b71e-8deb7aebf7f0",
   "metadata": {},
   "outputs": [
    {
     "data": {
      "text/plain": [
       " OrderID                   0\n",
       " OrderItemID               0\n",
       " OrderYearMonth            0\n",
       " OrderYear                 0\n",
       " OrderMonth                0\n",
       " OrderDay                  0\n",
       "OrderTime                  0\n",
       "OrderQuantity              0\n",
       "ProductDepartment          0\n",
       "ProductCategory            0\n",
       "ProductName                0\n",
       " CustomerID                0\n",
       "CustomerMarket             0\n",
       "CustomerRegion             0\n",
       "CustomerCountry            0\n",
       "WarehouseCountry           0\n",
       "ShipmentYear               0\n",
       "ShipmentMonth              0\n",
       "ShipmentDay                0\n",
       "ShipmentMode               0\n",
       " ShipmentDaysScheduled     0\n",
       " GrossSales                0\n",
       " Discount                  0\n",
       " Profit                    0\n",
       "OrderDateTime              0\n",
       "ShipDate                   0\n",
       "dtype: int64"
      ]
     },
     "execution_count": 21,
     "metadata": {},
     "output_type": "execute_result"
    }
   ],
   "source": [
    "df_orders.isna().sum()"
   ]
  },
  {
   "cell_type": "code",
   "execution_count": 22,
   "id": "18355ca1-a489-409e-a254-d702e129ce6c",
   "metadata": {},
   "outputs": [
    {
     "data": {
      "text/plain": [
       "ProductName             0\n",
       " YearMonth              0\n",
       " WarehouseInventory     0\n",
       "InventoryCostPerUnit    0\n",
       "dtype: int64"
      ]
     },
     "execution_count": 22,
     "metadata": {},
     "output_type": "execute_result"
    }
   ],
   "source": [
    "df_inventory.isna().sum()"
   ]
  },
  {
   "cell_type": "code",
   "execution_count": 23,
   "id": "bc2bb823-20d6-4dd9-8f93-240df80b8ef5",
   "metadata": {},
   "outputs": [
    {
     "data": {
      "text/plain": [
       "ProductName        0\n",
       "dock_stock_days    0\n",
       "dtype: int64"
      ]
     },
     "execution_count": 23,
     "metadata": {},
     "output_type": "execute_result"
    }
   ],
   "source": [
    "df_fulfillment.isna().sum()"
   ]
  },
  {
   "cell_type": "markdown",
   "id": "82fe480f-4f46-4d67-8652-8f4430eadde0",
   "metadata": {},
   "source": [
    "## Duplicated Data"
   ]
  },
  {
   "cell_type": "code",
   "execution_count": 25,
   "id": "49c6c770-3013-4716-ac4a-ad56cce36061",
   "metadata": {},
   "outputs": [
    {
     "data": {
      "text/plain": [
       "0"
      ]
     },
     "execution_count": 25,
     "metadata": {},
     "output_type": "execute_result"
    }
   ],
   "source": [
    "df_orders.duplicated().sum()"
   ]
  },
  {
   "cell_type": "code",
   "execution_count": 26,
   "id": "61529443-6c2f-45cf-b463-13b90e492114",
   "metadata": {},
   "outputs": [
    {
     "data": {
      "text/plain": [
       "0"
      ]
     },
     "execution_count": 26,
     "metadata": {},
     "output_type": "execute_result"
    }
   ],
   "source": [
    "df_inventory.duplicated().sum()"
   ]
  },
  {
   "cell_type": "code",
   "execution_count": 27,
   "id": "7fc9be79-58db-43bc-9268-5101874f7e41",
   "metadata": {},
   "outputs": [
    {
     "data": {
      "text/plain": [
       "0"
      ]
     },
     "execution_count": 27,
     "metadata": {},
     "output_type": "execute_result"
    }
   ],
   "source": [
    "df_fulfillment.duplicated().sum()"
   ]
  },
  {
   "cell_type": "markdown",
   "id": "0cac7732-e732-42d7-823d-ac75f6ffbb0c",
   "metadata": {},
   "source": [
    "# Data Transformations"
   ]
  },
  {
   "cell_type": "markdown",
   "id": "fd5f22dd-fe03-45e2-8b30-372df509aa3a",
   "metadata": {},
   "source": [
    "## Replace '-' with 0 on Discount field to allow object to be changed to float data type"
   ]
  },
  {
   "cell_type": "code",
   "execution_count": 30,
   "id": "0d4666fa-b3b8-4aed-8056-6a51db66a5ca",
   "metadata": {},
   "outputs": [
    {
     "data": {
      "text/plain": [
       " OrderID                            int64\n",
       " OrderItemID                        int64\n",
       " OrderYearMonth                     int64\n",
       " OrderYear                          int64\n",
       " OrderMonth                         int64\n",
       " OrderDay                           int64\n",
       "OrderTime                          object\n",
       "OrderQuantity                       int64\n",
       "ProductDepartment                  object\n",
       "ProductCategory                    object\n",
       "ProductName                        object\n",
       " CustomerID                         int64\n",
       "CustomerMarket                     object\n",
       "CustomerRegion                     object\n",
       "CustomerCountry                    object\n",
       "WarehouseCountry                   object\n",
       "ShipmentYear                        int64\n",
       "ShipmentMonth                       int64\n",
       "ShipmentDay                         int64\n",
       "ShipmentMode                       object\n",
       " ShipmentDaysScheduled              int64\n",
       " GrossSales                         int64\n",
       " Discount                         float64\n",
       " Profit                             int64\n",
       "OrderDateTime              datetime64[ns]\n",
       "ShipDate                   datetime64[ns]\n",
       "dtype: object"
      ]
     },
     "execution_count": 30,
     "metadata": {},
     "output_type": "execute_result"
    }
   ],
   "source": [
    "df_orders[' Discount'] = df_orders[' Discount'].replace('  -  ', 0)\n",
    "#rerun data type                                                                          \n",
    "df_orders[' Discount'] = pd.to_numeric(df_orders[' Discount'])  #field requires cleaning to convert '-' to 0 to allow type to be changed to numeric\n",
    "\n",
    "df_orders.dtypes"
   ]
  },
  {
   "cell_type": "markdown",
   "id": "879310f3-ac9c-493f-8e0c-9d447f9bc329",
   "metadata": {},
   "source": [
    "## using strip function to remove unwanted spaces from dataset orders and inventory datasets "
   ]
  },
  {
   "cell_type": "code",
   "execution_count": 32,
   "id": "1f92450a-5c63-4689-8788-755cbfa19a40",
   "metadata": {},
   "outputs": [
    {
     "data": {
      "text/plain": [
       "Index(['OrderID', 'OrderItemID', 'OrderYearMonth', 'OrderYear', 'OrderMonth',\n",
       "       'OrderDay', 'OrderTime', 'OrderQuantity', 'ProductDepartment',\n",
       "       'ProductCategory', 'ProductName', 'CustomerID', 'CustomerMarket',\n",
       "       'CustomerRegion', 'CustomerCountry', 'WarehouseCountry', 'ShipmentYear',\n",
       "       'ShipmentMonth', 'ShipmentDay', 'ShipmentMode', 'ShipmentDaysScheduled',\n",
       "       'GrossSales', 'Discount', 'Profit', 'OrderDateTime', 'ShipDate'],\n",
       "      dtype='object')"
      ]
     },
     "execution_count": 32,
     "metadata": {},
     "output_type": "execute_result"
    }
   ],
   "source": [
    "dataframes = [df_orders, df_inventory]\n",
    "for i in dataframes:\n",
    "  i.columns = i.columns.str.strip()\n",
    "\n",
    "#confirm\n",
    "df_orders.columns"
   ]
  },
  {
   "cell_type": "code",
   "execution_count": 33,
   "id": "436cce36-7883-4176-8ee1-4bfc056bd5c6",
   "metadata": {},
   "outputs": [
    {
     "data": {
      "text/plain": [
       "Index(['ProductName', 'YearMonth', 'WarehouseInventory',\n",
       "       'InventoryCostPerUnit'],\n",
       "      dtype='object')"
      ]
     },
     "execution_count": 33,
     "metadata": {},
     "output_type": "execute_result"
    }
   ],
   "source": [
    "df_inventory.columns"
   ]
  },
  {
   "cell_type": "markdown",
   "id": "586f93fd-3a88-4352-a3fe-79cbc7a83015",
   "metadata": {},
   "source": [
    "# Data Types"
   ]
  },
  {
   "cell_type": "code",
   "execution_count": 35,
   "id": "ca0579d5-b0a1-4a24-a975-0129119be509",
   "metadata": {},
   "outputs": [
    {
     "name": "stdout",
     "output_type": "stream",
     "text": [
      "<class 'pandas.core.frame.DataFrame'>\n",
      "RangeIndex: 30871 entries, 0 to 30870\n",
      "Data columns (total 26 columns):\n",
      " #   Column                 Non-Null Count  Dtype         \n",
      "---  ------                 --------------  -----         \n",
      " 0   OrderID                30871 non-null  int64         \n",
      " 1   OrderItemID            30871 non-null  int64         \n",
      " 2   OrderYearMonth         30871 non-null  int64         \n",
      " 3   OrderYear              30871 non-null  int64         \n",
      " 4   OrderMonth             30871 non-null  int64         \n",
      " 5   OrderDay               30871 non-null  int64         \n",
      " 6   OrderTime              30871 non-null  object        \n",
      " 7   OrderQuantity          30871 non-null  int64         \n",
      " 8   ProductDepartment      30871 non-null  object        \n",
      " 9   ProductCategory        30871 non-null  object        \n",
      " 10  ProductName            30871 non-null  object        \n",
      " 11  CustomerID             30871 non-null  int64         \n",
      " 12  CustomerMarket         30871 non-null  object        \n",
      " 13  CustomerRegion         30871 non-null  object        \n",
      " 14  CustomerCountry        30871 non-null  object        \n",
      " 15  WarehouseCountry       30871 non-null  object        \n",
      " 16  ShipmentYear           30871 non-null  int64         \n",
      " 17  ShipmentMonth          30871 non-null  int64         \n",
      " 18  ShipmentDay            30871 non-null  int64         \n",
      " 19  ShipmentMode           30871 non-null  object        \n",
      " 20  ShipmentDaysScheduled  30871 non-null  int64         \n",
      " 21  GrossSales             30871 non-null  int64         \n",
      " 22  Discount               30871 non-null  float64       \n",
      " 23  Profit                 30871 non-null  int64         \n",
      " 24  OrderDateTime          30871 non-null  datetime64[ns]\n",
      " 25  ShipDate               30871 non-null  datetime64[ns]\n",
      "dtypes: datetime64[ns](2), float64(1), int64(14), object(9)\n",
      "memory usage: 6.1+ MB\n"
     ]
    }
   ],
   "source": [
    "df_orders.info()"
   ]
  },
  {
   "cell_type": "code",
   "execution_count": 36,
   "id": "4585122d-778a-4788-bce0-822c4c82b1a1",
   "metadata": {},
   "outputs": [
    {
     "name": "stdout",
     "output_type": "stream",
     "text": [
      "<class 'pandas.core.frame.DataFrame'>\n",
      "RangeIndex: 4200 entries, 0 to 4199\n",
      "Data columns (total 4 columns):\n",
      " #   Column                Non-Null Count  Dtype  \n",
      "---  ------                --------------  -----  \n",
      " 0   ProductName           4200 non-null   object \n",
      " 1   YearMonth             4200 non-null   int64  \n",
      " 2   WarehouseInventory    4200 non-null   int64  \n",
      " 3   InventoryCostPerUnit  4200 non-null   float64\n",
      "dtypes: float64(1), int64(2), object(1)\n",
      "memory usage: 131.4+ KB\n"
     ]
    }
   ],
   "source": [
    "df_inventory.info()"
   ]
  },
  {
   "cell_type": "code",
   "execution_count": 37,
   "id": "fb1e289d-6800-47f0-9ce7-738a106e6b82",
   "metadata": {},
   "outputs": [
    {
     "name": "stdout",
     "output_type": "stream",
     "text": [
      "<class 'pandas.core.frame.DataFrame'>\n",
      "RangeIndex: 118 entries, 0 to 117\n",
      "Data columns (total 2 columns):\n",
      " #   Column           Non-Null Count  Dtype  \n",
      "---  ------           --------------  -----  \n",
      " 0   ProductName      118 non-null    object \n",
      " 1   dock_stock_days  118 non-null    float64\n",
      "dtypes: float64(1), object(1)\n",
      "memory usage: 2.0+ KB\n"
     ]
    }
   ],
   "source": [
    "df_fulfillment.info()"
   ]
  },
  {
   "cell_type": "markdown",
   "id": "1ff479cf-2935-4121-ae56-7ae8515e60a3",
   "metadata": {},
   "source": [
    "# Export datasets to postgressql for ERD Diagram"
   ]
  },
  {
   "cell_type": "code",
   "execution_count": 39,
   "id": "55ac809e-4953-42aa-bdfe-a4c2b3cfe27a",
   "metadata": {},
   "outputs": [],
   "source": [
    "df_orders.to_csv(\"D:/School/MIS581/Datasets/Updated/order_shipments.csv\", encoding='utf-8')"
   ]
  },
  {
   "cell_type": "code",
   "execution_count": 40,
   "id": "22e8f25d-d875-4d2c-9447-a53fe12b4f62",
   "metadata": {},
   "outputs": [],
   "source": [
    "df_inventory.to_csv(\"D:/School/MIS581/Datasets/Updated/inventory.csv\")"
   ]
  },
  {
   "cell_type": "code",
   "execution_count": 41,
   "id": "03c70904-5c0b-4cf0-8601-34accd5c632f",
   "metadata": {},
   "outputs": [],
   "source": [
    "df_fulfillment.to_csv(\"D:/School/MIS581/Datasets/Updated/fulfillment.csv\")"
   ]
  },
  {
   "cell_type": "markdown",
   "id": "a9154a1c-7918-4d1b-bd6a-d19a14a08299",
   "metadata": {},
   "source": [
    "# Data Analysis"
   ]
  },
  {
   "cell_type": "code",
   "execution_count": 43,
   "id": "07c40ded-2cad-481b-b57a-602e38025a3c",
   "metadata": {},
   "outputs": [
    {
     "name": "stdout",
     "output_type": "stream",
     "text": [
      "       OrderQuantity      Discount        Profit  ShipmentDaysScheduled\n",
      "count   30871.000000  30871.000000  30871.000000           30871.000000\n",
      "mean        2.149817      0.101296    129.383305               3.072495\n",
      "std         1.461393      0.070423     52.649857               1.184417\n",
      "min         1.000000      0.000000      6.000000               1.000000\n",
      "25%         1.000000      0.040000     97.000000               2.000000\n",
      "50%         1.000000      0.090000    125.000000               4.000000\n",
      "75%         3.000000      0.160000    150.000000               4.000000\n",
      "max         5.000000      0.250000    258.000000               4.000000\n"
     ]
    }
   ],
   "source": [
    "# Generate summary statistics\n",
    "summary_statistics_orders = df_orders[['OrderQuantity', 'Discount','Profit','ShipmentDaysScheduled']].describe()\n",
    "print(summary_statistics_orders)"
   ]
  },
  {
   "cell_type": "code",
   "execution_count": 44,
   "id": "471656d2-04b0-4bd3-b6e7-918f5de830c2",
   "metadata": {},
   "outputs": [
    {
     "name": "stdout",
     "output_type": "stream",
     "text": [
      "       dock_stock_days\n",
      "count       118.000000\n",
      "mean          5.333898\n",
      "std           2.414282\n",
      "min           1.000000\n",
      "25%           3.300000\n",
      "50%           5.300000\n",
      "75%           6.975000\n",
      "max           9.900000\n"
     ]
    }
   ],
   "source": [
    "# Generate summary statistics\n",
    "summary_statistics_fulfillment = df_fulfillment.describe()\n",
    "print(summary_statistics_fulfillment)"
   ]
  },
  {
   "cell_type": "code",
   "execution_count": 45,
   "id": "128ef6fb-0d2b-48ab-9309-30b271eecc6f",
   "metadata": {},
   "outputs": [
    {
     "name": "stdout",
     "output_type": "stream",
     "text": [
      "       WarehouseInventory  InvCostTotal\n",
      "count         4200.000000   4200.000000\n",
      "mean            16.908095     20.578791\n",
      "std             71.121721    100.453162\n",
      "min              0.000000      0.000000\n",
      "25%              0.000000      0.000000\n",
      "50%              0.000000      0.000000\n",
      "75%              4.000000      4.365012\n",
      "max            931.000000   1890.973240\n"
     ]
    }
   ],
   "source": [
    "# Generate summary statistics\n",
    "df_inventory['InvCostTotal'] = (df_inventory.WarehouseInventory * df_inventory.InventoryCostPerUnit)\n",
    "summary_statistics_inventory = df_inventory[['WarehouseInventory', 'InvCostTotal']].describe()\n",
    "print(summary_statistics_inventory)"
   ]
  },
  {
   "cell_type": "markdown",
   "id": "7b87f9b6-65bb-42de-a99f-9aa594cf6c3c",
   "metadata": {},
   "source": [
    "# Visuals"
   ]
  },
  {
   "cell_type": "code",
   "execution_count": 47,
   "id": "cdd82a5a-f2a6-4a4e-97cf-802de41f9adb",
   "metadata": {},
   "outputs": [
    {
     "data": {
      "text/plain": [
       "<Axes: title={'center': 'Distribution of Dock Stock Days'}, xlabel='Dock to Stock Days', ylabel='Frequency'>"
      ]
     },
     "execution_count": 47,
     "metadata": {},
     "output_type": "execute_result"
    },
    {
     "data": {
      "image/png": "[encoded data removed]",
      "text/plain": [
       "<Figure size 640x480 with 1 Axes>"
      ]
     },
     "metadata": {},
     "output_type": "display_data"
    }
   ],
   "source": [
    "# Plot histogram of dock stock days\n",
    "df_fulfillment['dock_stock_days'].plot(kind='hist',bins=20,title='Distribution of Dock Stock Days',\n",
    "                                  xlabel='Dock to Stock Days' ,ylabel='Frequency')"
   ]
  },
  {
   "cell_type": "code",
   "execution_count": 48,
   "id": "b5e6cfa6-f907-4c52-8fee-4f6f49816882",
   "metadata": {},
   "outputs": [
    {
     "data": {
      "text/plain": [
       "<Axes: title={'center': 'Kernal Density Plot for the Distribution of Dock Stock Days'}, ylabel='Density'>"
      ]
     },
     "execution_count": 48,
     "metadata": {},
     "output_type": "execute_result"
    },
    {
     "data": {
      "image/png": "[encoded data removed]",
      "text/plain": [
       "<Figure size 640x480 with 1 Axes>"
      ]
     },
     "metadata": {},
     "output_type": "display_data"
    }
   ],
   "source": [
    "# Plot histogram of dock stock days\n",
    "df_fulfillment['dock_stock_days'].plot(kind='kde', title='Kernal Density Plot for the Distribution of Dock Stock Days',\n",
    "                                  xlabel='Profit' ,ylabel='Discount')"
   ]
  },
  {
   "cell_type": "code",
   "execution_count": 57,
   "id": "688ff3fd-2ab9-43ca-b222-66ba9e33e38d",
   "metadata": {},
   "outputs": [
    {
     "data": {
      "image/png": "[encoded data removed]",
      "text/plain": [
       "<Figure size 640x480 with 1 Axes>"
      ]
     },
     "metadata": {},
     "output_type": "display_data"
    }
   ],
   "source": [
    "# SQL query \n",
    "query = \"\"\"\n",
    "SELECT OrderYear,sum(GrossSales) sales\n",
    "FROM df_orders\n",
    "group by OrderYear\n",
    "\"\"\"\n",
    "\n",
    "# Execute the query\n",
    "df_sales = psql.sqldf(query, locals())\n",
    "\n",
    "# Plot the sales trend line\n",
    "plt.plot(df_sales['OrderYear'], df_sales['sales'], marker='o')\n",
    "\n",
    "# Add title and labels\n",
    "plt.title('Sales Trend Over Time')\n",
    "plt.xlabel('Year')\n",
    "plt.ylabel('Sales')\n",
    "\n",
    "# Display the plot\n",
    "plt.grid(True)\n",
    "plt.xticks(rotation=45)\n",
    "plt.show()"
   ]
  },
  {
   "cell_type": "code",
   "execution_count": 58,
   "id": "174ffbfa-6054-4c19-b61a-428657878679",
   "metadata": {},
   "outputs": [
    {
     "data": {
      "image/png": "[encoded data removed]",
      "text/plain": [
       "<Figure size 640x480 with 1 Axes>"
      ]
     },
     "metadata": {},
     "output_type": "display_data"
    }
   ],
   "source": [
    "# SQL query \n",
    "query = \"\"\"\n",
    "SELECT df_orders.ShipmentMode, sum(df_orders.GrossSales) as sales\n",
    "FROM df_orders\n",
    "group by df_orders.ShipmentMode\n",
    "\"\"\"\n",
    "\n",
    "# Execute the query\n",
    "new_df = psql.sqldf(query, locals())\n",
    "\n",
    "labels = new_df.ShipmentMode\n",
    "sizes = new_df.sales\n",
    "colors = ['gold', 'yellowgreen', 'lightcoral', 'lightskyblue']\n",
    "explode = (0, 0, 0, 0)  # Explode the 1st slice (Category A)\n",
    "\n",
    "# Create a pie chart\n",
    "plt.pie(sizes, explode=explode, labels=labels, colors=colors, autopct='%1.1f%%', shadow=True, startangle=140)\n",
    "\n",
    "# Equal aspect ratio ensures the pie chart is circular.\n",
    "plt.axis('equal')\n",
    "plt.title('Distribution of Shipment Modes by Sales')\n",
    "plt.show()\n",
    "\n",
    "\n"
   ]
  },
  {
   "cell_type": "code",
   "execution_count": null,
   "id": "f4d3c100-c8cf-43f5-a5f7-0de8938a5bd8",
   "metadata": {},
   "outputs": [],
   "source": []
  }
 ],
 "metadata": {
  "kernelspec": {
   "display_name": "Python 3 (ipykernel)",
   "language": "python",
   "name": "python3"
  },
  "language_info": {
   "codemirror_mode": {
    "name": "ipython",
    "version": 3
   },
   "file_extension": ".py",
   "mimetype": "text/x-python",
   "name": "python",
   "nbconvert_exporter": "python",
   "pygments_lexer": "ipython3",
   "version": "3.12.4"
  }
 },
 "nbformat": 4,
 "nbformat_minor": 5
}
